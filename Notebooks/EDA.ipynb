{
 "cells": [
  {
   "cell_type": "code",
   "execution_count": null,
   "id": "1ba3190a-03f4-447d-8cae-155f7cb35ffa",
   "metadata": {},
   "outputs": [],
   "source": [
    "import pandas as pd\n",
    "import numpy as np\n",
    "import matplotlib.pyplot as plt\n",
    "import seaborn as sns"
   ]
  },
  {
   "cell_type": "code",
   "execution_count": null,
   "id": "34aa0b77-58aa-4299-b6ea-28aa6a84c24a",
   "metadata": {},
   "outputs": [],
   "source": [
    "df= pd.read_csv(\"../Data/data.csv\",\n",
    "           index_col=0\n",
    "           )"
   ]
  },
  {
   "cell_type": "code",
   "execution_count": null,
   "id": "123ee8bd-7c4b-4c12-b4e1-045cfcd17275",
   "metadata": {},
   "outputs": [],
   "source": [
    "df"
   ]
  },
  {
   "cell_type": "code",
   "execution_count": null,
   "id": "e92f77f8-0c6c-4037-a32e-b89091a111d0",
   "metadata": {},
   "outputs": [],
   "source": [
    "df.isnull().sum()"
   ]
  },
  {
   "cell_type": "code",
   "execution_count": null,
   "id": "175dde19-fc6a-4ad1-a05a-474701999cd6",
   "metadata": {},
   "outputs": [],
   "source": [
    "df.activity.unique()"
   ]
  },
  {
   "cell_type": "code",
   "execution_count": null,
   "id": "d3fa3a96-3c13-4f04-b69c-f54d22c82740",
   "metadata": {},
   "outputs": [],
   "source": [
    "df = df.drop(['region', 'reference', 'method_data_collection', 'notes', 'treatment', 'url', 'cause_of_loss', 'sample_size', 'loss_quantity', 'activity'],\n",
    "       axis=1)"
   ]
  },
  {
   "cell_type": "code",
   "execution_count": null,
   "id": "8e6fc122-f7e4-4619-b7de-3c833d5fac4b",
   "metadata": {},
   "outputs": [],
   "source": [
    "import pycountry_convert as pc\n",
    "def get_continent(country_name):\n",
    "    try:\n",
    "        country_alpha2 = pc.country_name_to_country_alpha2(country_name)\n",
    "        continent_code = pc.country_alpha2_to_continent_code(country_alpha2)\n",
    "        return continent_code\n",
    "    except KeyError:\n",
    "        return None\n",
    "\n",
    "df.insert(0, 'continent', df['country'].apply(get_continent))\n",
    "df"
   ]
  },
  {
   "cell_type": "code",
   "execution_count": null,
   "id": "6290d057-0f99-4a66-9b10-e9ee070cea9c",
   "metadata": {},
   "outputs": [],
   "source": [
    "dfAfrica.continent.unique()"
   ]
  },
  {
   "cell_type": "code",
   "execution_count": null,
   "id": "2abd6ef0-d990-4324-9ed0-400298cc06d0",
   "metadata": {},
   "outputs": [],
   "source": [
    "dfAfrica = df[df.continent == 'AF']\n",
    "dfAfrica"
   ]
  },
  {
   "cell_type": "code",
   "execution_count": null,
   "id": "bf4f69a0-188f-4fc3-bc61-71c0ff78ab45",
   "metadata": {},
   "outputs": [],
   "source": [
    "dfAfrica.drop_duplicates()"
   ]
  },
  {
   "cell_type": "code",
   "execution_count": null,
   "id": "8b4d7124-1aac-4ef1-9912-a7402e319344",
   "metadata": {},
   "outputs": [],
   "source": [
    "dfAfrica.food_supply_stage.unique()"
   ]
  },
  {
   "cell_type": "code",
   "execution_count": null,
   "id": "f12fde2b-e3d7-4122-a231-e34798057ba9",
   "metadata": {},
   "outputs": [],
   "source": [
    "dfAfrica[(dfAfrica.country == 'Uganda') & (dfAfrica.commodity == 'Coffee')]"
   ]
  },
  {
   "cell_type": "code",
   "execution_count": null,
   "id": "31b5bbb2-2034-4d6d-b960-e0223383e773",
   "metadata": {},
   "outputs": [],
   "source": [
    "dfAfrica.cpc_code.unique()"
   ]
  },
  {
   "cell_type": "code",
   "execution_count": null,
   "id": "c94cfc95-1cda-40ba-9537-1414d22c3a55",
   "metadata": {},
   "outputs": [],
   "source": [
    "dfAfrica.to_csv(\"../Data/african_data.csv\")"
   ]
  }
 ],
 "metadata": {
  "kernelspec": {
   "display_name": "Python 3 (ipykernel)",
   "language": "python",
   "name": "python3"
  },
  "language_info": {
   "codemirror_mode": {
    "name": "ipython",
    "version": 3
   },
   "file_extension": ".py",
   "mimetype": "text/x-python",
   "name": "python",
   "nbconvert_exporter": "python",
   "pygments_lexer": "ipython3",
   "version": "3.12.4"
  }
 },
 "nbformat": 4,
 "nbformat_minor": 5
}
