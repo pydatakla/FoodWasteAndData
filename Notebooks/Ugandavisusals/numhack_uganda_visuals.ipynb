{
 "cells": [
  {
   "cell_type": "code",
   "execution_count": null,
   "metadata": {
    "colab": {
     "base_uri": "https://localhost:8080/"
    },
    "id": "rAZEVu8Y13yw",
    "outputId": "b7a9c9e5-947d-4236-930c-08d15093f107"
   },
   "outputs": [
    {
     "ename": "",
     "evalue": "",
     "output_type": "error",
     "traceback": [
      "\u001b[1;31mFailed to start the Kernel. \n",
      "\u001b[1;31mUnable to start Kernel 'venv (Python 3.12.4)' due to a timeout waiting for the ports to get used. \n",
      "\u001b[1;31mView Jupyter <a href='command:jupyter.viewOutput'>log</a> for further details."
     ]
    }
   ],
   "source": [
    "import pandas as pd\n",
    "\n",
    "# Load the dataset\n",
    "df = pd.read_csv('/content/uganda.csv')\n",
    "\n",
    "# Display basic information\n",
    "print(df.info())\n",
    "print(df.describe())\n",
    "\n",
    "\n",
    "#Further analysis depends on the contents of the csv.\n",
    "#You can explore relationships between variables, plot histograms and scatterplots\n",
    "#Calculate summary statistics or do more complex analysis based on the data."
   ]
  },
  {
   "cell_type": "markdown",
   "metadata": {
    "id": "JWjigx2A2Yfm"
   },
   "source": [
    "Analysis"
   ]
  },
  {
   "cell_type": "code",
   "execution_count": null,
   "metadata": {
    "colab": {
     "base_uri": "https://localhost:8080/"
    },
    "id": "tpnPcO673MgF",
    "outputId": "fd819ba2-59d9-41e8-96b3-2e995e332641"
   },
   "outputs": [],
   "source": [
    "import pandas as pd\n",
    "\n",
    "# Load the dataset\n",
    "df = pd.read_csv('/content/uganda.csv')\n",
    "\n",
    "# Display the first few rows of the DataFrame\n",
    "print(df.head())  # Adjust the number of rows with df.head(n) if needed\n",
    "\n",
    "# Display the table using to_string() for better formatting in some environments\n",
    "print(df.to_string())"
   ]
  },
  {
   "cell_type": "code",
   "execution_count": null,
   "metadata": {
    "colab": {
     "base_uri": "https://localhost:8080/",
     "height": 313
    },
    "id": "1i43PjLb32K2",
    "outputId": "c4c9d74b-62a7-4ce5-abe3-8b7287de049c"
   },
   "outputs": [],
   "source": [
    "df.head()"
   ]
  },
  {
   "cell_type": "markdown",
   "metadata": {
    "id": "MZ7Q5KgJE0Hs"
   },
   "source": [
    "# Maize as one of Uganda's major crops"
   ]
  },
  {
   "cell_type": "code",
   "execution_count": null,
   "metadata": {
    "colab": {
     "base_uri": "https://localhost:8080/",
     "height": 1000
    },
    "id": "j6G7V06c6q14",
    "outputId": "65fde7c0-d234-4e5f-9c04-5dbae3b2461f"
   },
   "outputs": [],
   "source": [
    "# prompt: analyse /content/maize-production.csv with bar plots also\n",
    "\n",
    "import pandas as pd\n",
    "import matplotlib.pyplot as plt\n",
    "\n",
    "# Load the dataset\n",
    "df_maize = pd.read_csv('/content/maize-production.csv')\n",
    "\n",
    "# Display basic information about the maize dataset\n",
    "print(df_maize.info())\n",
    "print(df_maize.describe())\n",
    "\n",
    "# Assuming 'Year' and 'Production' are columns in your dataset\n",
    "# Replace 'Year' and 'Production' with the actual column names if different\n",
    "\n",
    "try:\n",
    "    # Create a bar plot of maize production over the years\n",
    "    plt.figure(figsize=(10, 6))  # Adjust figure size as needed\n",
    "    plt.bar(df_maize['Year'], df_maize['Production'])\n",
    "    plt.xlabel('Year')\n",
    "    plt.ylabel('Maize Production')\n",
    "    plt.title('Maize Production Over Time')\n",
    "    plt.xticks(rotation=45, ha='right')  # Rotate x-axis labels for better readability\n",
    "    plt.tight_layout()  # Adjust layout to prevent labels from overlapping\n",
    "    plt.show()\n",
    "\n",
    "except KeyError as e:\n",
    "    print(f\"Error: Column '{e}' not found in the dataset. Please check the column names.\")\n",
    "except Exception as e:\n",
    "    print(f\"An unexpected error occurred: {e}\")"
   ]
  },
  {
   "cell_type": "code",
   "execution_count": null,
   "metadata": {
    "colab": {
     "base_uri": "https://localhost:8080/",
     "height": 360
    },
    "id": "00W5Gaz97Qz9",
    "outputId": "2856864c-efde-4987-ab39-2a656bef82e3"
   },
   "outputs": [],
   "source": [
    "import pandas as pd\n",
    "df_maize = pd.read_csv('/content/maize-production.csv')\n",
    "df_maize.head()"
   ]
  },
  {
   "cell_type": "markdown",
   "metadata": {
    "id": "tbEfFa76FJ6q"
   },
   "source": [
    "# Visualisation of different parameters of Maize"
   ]
  },
  {
   "cell_type": "code",
   "execution_count": null,
   "metadata": {
    "colab": {
     "base_uri": "https://localhost:8080/",
     "height": 578
    },
    "id": "WpJFPpuK-rTq",
    "outputId": "cbf2043e-8203-478b-ceb0-52f251f96d37"
   },
   "outputs": [],
   "source": [
    "import matplotlib.pyplot as plt\n",
    "\n",
    "try:\n",
    "    plt.figure(figsize=(10, 6))\n",
    "    plt.bar(df_maize['Year'], df_maize['Food supply (kg per capita per year)'])\n",
    "    plt.xlabel('Year')\n",
    "    plt.ylabel('Food supply (kg per capita per year)')\n",
    "    plt.title('Food Supply Over Time')\n",
    "    plt.xticks(rotation=45, ha='right')\n",
    "    plt.tight_layout()\n",
    "    plt.show()\n",
    "except KeyError as e:\n",
    "    print(f\"Error: Column '{e}' not found in the dataset. Please check the column names.\")\n",
    "except Exception as e:\n",
    "    print(f\"An unexpected error occurred: {e}\")"
   ]
  },
  {
   "cell_type": "code",
   "execution_count": null,
   "metadata": {
    "colab": {
     "base_uri": "https://localhost:8080/",
     "height": 578
    },
    "id": "Ov_xdclT-tFw",
    "outputId": "ee4210f1-4841-425e-f342-60b9f5d90a9e"
   },
   "outputs": [],
   "source": [
    "import pandas as pd\n",
    "import matplotlib.pyplot as plt\n",
    "\n",
    "# Load the dataset\n",
    "df_maize = pd.read_csv('/content/maize-production.csv')\n",
    "\n",
    "# Assuming 'Year' and 'Food supply (kg per capita per year)' are columns in your dataset\n",
    "# Replace with the actual column names if different\n",
    "try:\n",
    "    # Create a bar plot\n",
    "    plt.figure(figsize=(10, 6))\n",
    "    plt.bar(df_maize['Year'], df_maize['Food supply (kg per capita per year)'])\n",
    "    plt.xlabel('Year')\n",
    "    plt.ylabel('Food supply (kg per capita per year)')\n",
    "    plt.title('Food Supply Over Time')\n",
    "    plt.xticks(rotation=45, ha='right')\n",
    "    plt.tight_layout()\n",
    "    plt.show()\n",
    "\n",
    "except KeyError as e:\n",
    "    print(f\"Error: Column '{e}' not found in the dataset. Please check the column names.\")\n",
    "except Exception as e:\n",
    "    print(f\"An unexpected error occurred: {e}\")"
   ]
  },
  {
   "cell_type": "code",
   "execution_count": null,
   "metadata": {
    "colab": {
     "base_uri": "https://localhost:8080/",
     "height": 578
    },
    "id": "ySN0HR4d36EQ",
    "outputId": "625f42bc-3537-448e-930b-5758badc19ab"
   },
   "outputs": [],
   "source": [
    "# prompt: bar plot for /content/maize-production.csv waste_in_supply_chain__tonnes__per_capita\n",
    "\n",
    "import pandas as pd\n",
    "import matplotlib.pyplot as plt\n",
    "\n",
    "# Load the dataset\n",
    "df_maize = pd.read_csv('/content/maize-production.csv')\n",
    "\n",
    "# Create a bar plot of waste in the supply chain\n",
    "try:\n",
    "    plt.figure(figsize=(10, 6))\n",
    "    plt.bar(df_maize['Year'], df_maize['waste_in_supply_chain__tonnes__per_capita'])\n",
    "    plt.xlabel('Year')\n",
    "    plt.ylabel('Waste in Supply Chain (tonnes per capita)')\n",
    "    plt.title('Waste in Maize Supply Chain Over Time')\n",
    "    plt.xticks(rotation=45, ha='right')\n",
    "    plt.tight_layout()\n",
    "    plt.show()\n",
    "\n",
    "except KeyError as e:\n",
    "    print(f\"Error: Column '{e}' not found in the dataset. Please check the column names.\")\n",
    "except Exception as e:\n",
    "    print(f\"An unexpected error occurred: {e}\")"
   ]
  }
 ],
 "metadata": {
  "colab": {
   "provenance": []
  },
  "kernelspec": {
   "display_name": "venv",
   "language": "python",
   "name": "python3"
  },
  "language_info": {
   "name": "python",
   "version": "3.12.4"
  }
 },
 "nbformat": 4,
 "nbformat_minor": 0
}
