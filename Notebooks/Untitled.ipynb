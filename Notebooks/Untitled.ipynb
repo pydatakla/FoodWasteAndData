{
 "cells": [
  {
   "cell_type": "code",
   "execution_count": null,
   "id": "bfda8871-4fbd-4089-8ef4-eb60dd3864dc",
   "metadata": {},
   "outputs": [],
   "source": [
    "import io\n",
    "import base64\n",
    "from matplotlib import pyplot as plt\n",
    "import numpy as np\n",
    "\n",
    "def plot_to_html():\n",
    "    # Create a sample plot\n",
    "    x = np.linspace(0, 10, 100)\n",
    "    y = np.sin(x)\n",
    "    \n",
    "    # Create the plot\n",
    "    plt.figure(figsize=(8, 6))\n",
    "    plt.plot(x, y)\n",
    "    plt.title('Sample Plot')\n",
    "    plt.grid(True)\n",
    "    \n",
    "    # Save plot to a temporary buffer\n",
    "    buf = io.BytesIO()\n",
    "    plt.savefig(buf, format='png', bbox_inches='tight')\n",
    "    plt.close()\n",
    "    \n",
    "    # Encode the image to base64\n",
    "    buf.seek(0)\n",
    "    img_base64 = base64.b64encode(buf.getvalue()).decode('utf-8')\n",
    "    \n",
    "    # Create HTML string\n",
    "    html_string = f'''\n",
    "    <img src=\"data:image/png;base64,{img_base64}\" alt=\"Plot\">\n",
    "    '''\n",
    "    \n",
    "    return html_string\n",
    "\n",
    "# For use in Colab with IPython display\n",
    "from IPython.display import HTML\n",
    "HTML(plot_to_html())"
   ]
  }
 ],
 "metadata": {
  "kernelspec": {
   "display_name": "Python 3 (ipykernel)",
   "language": "python",
   "name": "python3"
  },
  "language_info": {
   "codemirror_mode": {
    "name": "ipython",
    "version": 3
   },
   "file_extension": ".py",
   "mimetype": "text/x-python",
   "name": "python",
   "nbconvert_exporter": "python",
   "pygments_lexer": "ipython3",
   "version": "3.12.4"
  }
 },
 "nbformat": 4,
 "nbformat_minor": 5
}
